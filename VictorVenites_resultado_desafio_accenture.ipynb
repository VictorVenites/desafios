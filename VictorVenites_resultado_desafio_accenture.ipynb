{
 "cells": [
  {
   "cell_type": "markdown",
   "id": "b416a2cc-532e-4a56-97db-f7cd2d65ad1a",
   "metadata": {},
   "source": [
    "# Autor: Victor Venites\n",
    "- Data: 19/09/2023"
   ]
  },
  {
   "cell_type": "markdown",
   "id": "dcece789-c095-4fa3-b872-65ee495afc03",
   "metadata": {},
   "source": [
    "# Dependencias"
   ]
  },
  {
   "cell_type": "code",
   "execution_count": 1,
   "id": "b2307748-8840-4bc0-bda0-c7fa882da330",
   "metadata": {},
   "outputs": [],
   "source": [
    "import pandas as pd\n",
    "import random"
   ]
  },
  {
   "cell_type": "markdown",
   "id": "3bee55ae-486c-4608-9036-c6434ecedd43",
   "metadata": {},
   "source": [
    "# Definindo Cenário"
   ]
  },
  {
   "cell_type": "code",
   "execution_count": 2,
   "id": "70395c49-6805-460f-a1d6-a41907cbf287",
   "metadata": {},
   "outputs": [],
   "source": [
    "posicao_inicial = 1\n",
    "posicao_final = 36\n",
    "numero_simulacoes = 10000"
   ]
  },
  {
   "cell_type": "code",
   "execution_count": 3,
   "id": "cf4cbd30-699b-43e0-9f15-a2334aefef0f",
   "metadata": {},
   "outputs": [],
   "source": [
    "dict_posicoes_cobras = {3: 16, 5: 7, 15: 25, 18: 20, 21: 32}"
   ]
  },
  {
   "cell_type": "code",
   "execution_count": 4,
   "id": "96cd9c35-f623-4110-a8fc-eb49655fb953",
   "metadata": {},
   "outputs": [],
   "source": [
    "dict_posicoes_escadas = {12: 2, 14: 11, 17: 4, 31: 19, 35: 22}"
   ]
  },
  {
   "cell_type": "markdown",
   "id": "165dd8d3-a4e2-4d6d-987f-128bbf473a88",
   "metadata": {},
   "source": [
    "# Simulação"
   ]
  },
  {
   "cell_type": "code",
   "execution_count": 5,
   "id": "93eb1cba-1572-44fc-aa67-46affd2c658b",
   "metadata": {},
   "outputs": [],
   "source": [
    "def rolar_dado():\n",
    "    return random.randint(1, 6)"
   ]
  },
  {
   "cell_type": "code",
   "execution_count": 6,
   "id": "2bb54d37-b936-4d49-84e0-223ce6952c06",
   "metadata": {},
   "outputs": [],
   "source": [
    "def turno(posicao_atual, contador_cobras, contador_dados_jogados, imunidade_jogador_B):\n",
    "    #print(f\"posicao_atual -> {posicao_atual}\")\n",
    "    jogada_dado = rolar_dado()\n",
    "    contador_dados_jogados += 1\n",
    "    #print(f\"jogada_dado -> {jogada_dado}\")\n",
    "    posicao_atual += jogada_dado\n",
    "    #print(f\"posicao_atual -> {posicao_atual}\")\n",
    "\n",
    "    if posicao_atual in dict_posicoes_cobras:\n",
    "        if not imunidade_jogador_B:\n",
    "            posicao_atual = dict_posicoes_cobras[posicao_atual]\n",
    "            contador_cobras += 1\n",
    "            #print(f\"contador_cobras -> {contador_cobras}\")\n",
    "        else:\n",
    "            imunidade_jogador_B = False\n",
    "    if posicao_atual in dict_posicoes_escadas:\n",
    "        posicao_atual = dict_posicoes_escadas[posicao_atual]\n",
    "        #print(f\"posicao_atual -> {posicao_atual}\")\n",
    "    return posicao_atual, contador_cobras, contador_dados_jogados, imunidade_jogador_B"
   ]
  },
  {
   "cell_type": "code",
   "execution_count": 7,
   "id": "828cf864-95b3-42de-9aa4-eff8842a9136",
   "metadata": {},
   "outputs": [],
   "source": [
    "def jogadas(posicao_a, posicao_b, imunidade_jogador_B):\n",
    "    jogador_atual = \"A\"\n",
    "    contador_cobras = 0\n",
    "    contador_dados_jogados = 0\n",
    "    while posicao_a < posicao_final and posicao_b < posicao_final:\n",
    "        if jogador_atual == \"A\":\n",
    "            posicao_a, contador_cobras, contador_dados_jogados, imunidade_jogador_B = turno(posicao_a, contador_cobras, contador_dados_jogados, imunidade_jogador_B)\n",
    "        else:\n",
    "            posicao_b, contador_cobras, contador_dados_jogados, imunidade_jogador_B = turno(posicao_b, contador_cobras, contador_dados_jogados, imunidade_jogador_B)\n",
    "        \n",
    "        if jogador_atual == \"A\":\n",
    "            jogador_atual = \"B\"\n",
    "        else:\n",
    "            jogador_atual = \"A\"\n",
    "    vencedor = \"A\" if posicao_a >= posicao_final else \"B\"\n",
    "    return vencedor, contador_cobras, contador_dados_jogados"
   ]
  },
  {
   "cell_type": "code",
   "execution_count": 8,
   "id": "fce4aeba-dc6c-4130-8eb9-362cb5693583",
   "metadata": {},
   "outputs": [],
   "source": [
    "def simulacao(quantidade_simulacoes, posicao_a = posicao_inicial, posicao_b = posicao_inicial, imunidade_jogador_B = False):\n",
    "    # print(f\"posicao_b -> {posicao_b}\")\n",
    "    resultados = []\n",
    "    for _ in range(quantidade_simulacoes):\n",
    "        vencedor = jogadas(posicao_a, posicao_b, imunidade_jogador_B)\n",
    "        resultados.append(vencedor)\n",
    "\n",
    "    return resultados"
   ]
  },
  {
   "cell_type": "code",
   "execution_count": 9,
   "id": "7255cfae-d351-4c6d-a8d0-f80c8a7ead90",
   "metadata": {},
   "outputs": [],
   "source": [
    "resultados = simulacao(numero_simulacoes)\n",
    "resultados = pd.DataFrame(resultados, columns=[\"Vencedor\", \"Contador_Cobras\", \"Contador_Dados_Jogados\"])"
   ]
  },
  {
   "cell_type": "markdown",
   "id": "d602cf3b-c426-42eb-ac8a-6b7c53a512b1",
   "metadata": {},
   "source": [
    "# Question 1\n",
    "- In a two person game, what is the probability that the player who starts the game wins?"
   ]
  },
  {
   "cell_type": "code",
   "execution_count": 10,
   "id": "e2ca7fbf-bedb-49c9-b259-4821a132a62e",
   "metadata": {},
   "outputs": [
    {
     "data": {
      "text/plain": [
       "Vencedor\n",
       "A    0.5209\n",
       "B    0.4791\n",
       "Name: proportion, dtype: float64"
      ]
     },
     "execution_count": 10,
     "metadata": {},
     "output_type": "execute_result"
    }
   ],
   "source": [
    "resultados[\"Vencedor\"].value_counts(normalize=True)"
   ]
  },
  {
   "cell_type": "markdown",
   "id": "ec8f9828-4448-4719-a89e-ca6c3eaa4029",
   "metadata": {},
   "source": [
    "# Question 2\n",
    "- On average, how many snakes are landed on in each game?"
   ]
  },
  {
   "cell_type": "code",
   "execution_count": 11,
   "id": "e7fcb44a-91bf-414a-be62-714bbb2b791f",
   "metadata": {},
   "outputs": [
    {
     "name": "stdout",
     "output_type": "stream",
     "text": [
      "Na média cai em 2.5111 cobras por jogo, ou 3 cobras arredondado.\n"
     ]
    }
   ],
   "source": [
    "print(f\"Na média cai em {resultados['Contador_Cobras'].mean()} cobras por jogo, ou {round(resultados['Contador_Cobras'].mean())} cobras arredondado.\")"
   ]
  },
  {
   "cell_type": "markdown",
   "id": "79ac1cfa-188c-4a86-abd4-f665b528aa4c",
   "metadata": {},
   "source": [
    "# Question 3\n",
    "- If each time a player landed on a ladder and there was only a 50% chance they could take it, what is the average number of rolls needed to complete a game?"
   ]
  },
  {
   "cell_type": "code",
   "execution_count": 12,
   "id": "724ca037-b330-4982-8856-f134dd9dd159",
   "metadata": {},
   "outputs": [
    {
     "name": "stdout",
     "output_type": "stream",
     "text": [
      "Na média se vence com 19.0267 dados rolados por jogo, ou 19 dados arredondado.\n"
     ]
    }
   ],
   "source": [
    "print(f\"Na média se vence com {resultados['Contador_Dados_Jogados'].mean()} dados rolados por jogo, ou {round(resultados['Contador_Dados_Jogados'].mean())} dados arredondado.\")"
   ]
  },
  {
   "cell_type": "markdown",
   "id": "d5e3ecbb-0a88-409e-9ddf-565e827b7dc7",
   "metadata": {},
   "source": [
    "# Question 4\n",
    "- Starting with the base game, you decide you want the game to have approximately fair odds. You do this by changing the square that Player 2 starts on. Which square for Player 2’s start position gives the closest to equal odds for both players?"
   ]
  },
  {
   "cell_type": "code",
   "execution_count": 13,
   "id": "66754156-363a-4174-8f53-1ffe2d96f173",
   "metadata": {},
   "outputs": [
    {
     "data": {
      "text/html": [
       "<div>\n",
       "<style scoped>\n",
       "    .dataframe tbody tr th:only-of-type {\n",
       "        vertical-align: middle;\n",
       "    }\n",
       "\n",
       "    .dataframe tbody tr th {\n",
       "        vertical-align: top;\n",
       "    }\n",
       "\n",
       "    .dataframe thead th {\n",
       "        text-align: right;\n",
       "    }\n",
       "</style>\n",
       "<table border=\"1\" class=\"dataframe\">\n",
       "  <thead>\n",
       "    <tr style=\"text-align: right;\">\n",
       "      <th></th>\n",
       "      <th>Posicao_Inicial_B</th>\n",
       "      <th>Vencedor</th>\n",
       "      <th>Percentual_Vencedor</th>\n",
       "      <th>Percentual_Perdedor</th>\n",
       "    </tr>\n",
       "  </thead>\n",
       "  <tbody>\n",
       "    <tr>\n",
       "      <th>0</th>\n",
       "      <td>1</td>\n",
       "      <td>A</td>\n",
       "      <td>0.5296</td>\n",
       "      <td>0.4704</td>\n",
       "    </tr>\n",
       "    <tr>\n",
       "      <th>1</th>\n",
       "      <td>2</td>\n",
       "      <td>A</td>\n",
       "      <td>0.5237</td>\n",
       "      <td>0.4763</td>\n",
       "    </tr>\n",
       "    <tr>\n",
       "      <th>2</th>\n",
       "      <td>3</td>\n",
       "      <td>A</td>\n",
       "      <td>0.5409</td>\n",
       "      <td>0.4591</td>\n",
       "    </tr>\n",
       "    <tr>\n",
       "      <th>3</th>\n",
       "      <td>4</td>\n",
       "      <td>A</td>\n",
       "      <td>0.5274</td>\n",
       "      <td>0.4726</td>\n",
       "    </tr>\n",
       "    <tr>\n",
       "      <th>4</th>\n",
       "      <td>5</td>\n",
       "      <td>A</td>\n",
       "      <td>0.5225</td>\n",
       "      <td>0.4775</td>\n",
       "    </tr>\n",
       "    <tr>\n",
       "      <th>5</th>\n",
       "      <td>6</td>\n",
       "      <td>A</td>\n",
       "      <td>0.5162</td>\n",
       "      <td>0.4838</td>\n",
       "    </tr>\n",
       "    <tr>\n",
       "      <th>6</th>\n",
       "      <td>7</td>\n",
       "      <td>B</td>\n",
       "      <td>0.5027</td>\n",
       "      <td>0.4973</td>\n",
       "    </tr>\n",
       "    <tr>\n",
       "      <th>7</th>\n",
       "      <td>8</td>\n",
       "      <td>B</td>\n",
       "      <td>0.5163</td>\n",
       "      <td>0.4837</td>\n",
       "    </tr>\n",
       "    <tr>\n",
       "      <th>8</th>\n",
       "      <td>9</td>\n",
       "      <td>B</td>\n",
       "      <td>0.5523</td>\n",
       "      <td>0.4477</td>\n",
       "    </tr>\n",
       "    <tr>\n",
       "      <th>9</th>\n",
       "      <td>10</td>\n",
       "      <td>B</td>\n",
       "      <td>0.5804</td>\n",
       "      <td>0.4196</td>\n",
       "    </tr>\n",
       "  </tbody>\n",
       "</table>\n",
       "</div>"
      ],
      "text/plain": [
       "   Posicao_Inicial_B Vencedor  Percentual_Vencedor  Percentual_Perdedor\n",
       "0                  1        A               0.5296               0.4704\n",
       "1                  2        A               0.5237               0.4763\n",
       "2                  3        A               0.5409               0.4591\n",
       "3                  4        A               0.5274               0.4726\n",
       "4                  5        A               0.5225               0.4775\n",
       "5                  6        A               0.5162               0.4838\n",
       "6                  7        B               0.5027               0.4973\n",
       "7                  8        B               0.5163               0.4837\n",
       "8                  9        B               0.5523               0.4477\n",
       "9                 10        B               0.5804               0.4196"
      ]
     },
     "execution_count": 13,
     "metadata": {},
     "output_type": "execute_result"
    }
   ],
   "source": [
    "resultados_vantagem_b = []\n",
    "for i in range(10):\n",
    "    resultados_questao_4 = simulacao(numero_simulacoes, posicao_b = posicao_inicial + i)\n",
    "    resultados_questao_4 = pd.DataFrame(resultados_questao_4, columns=[\"Vencedor\", \"Contador_Cobras\", \"Contador_Dados_Jogados\"])\n",
    "    vencedor_teste = resultados_questao_4[\"Vencedor\"].value_counts(normalize=True).index[0]\n",
    "    Percentual_A = resultados_questao_4[\"Vencedor\"].value_counts(normalize=True)[0]\n",
    "    Percentual_B = resultados_questao_4[\"Vencedor\"].value_counts(normalize=True)[1]\n",
    "    resultados_vantagem_b.append([i + 1, vencedor_teste, Percentual_A, Percentual_B])\n",
    "df_vantagem_b = pd.DataFrame(resultados_vantagem_b, columns=[\"Posicao_Inicial_B\", \"Vencedor\", \"Percentual_Vencedor\", \"Percentual_Perdedor\"])\n",
    "df_vantagem_b"
   ]
  },
  {
   "cell_type": "markdown",
   "id": "49283bca-6862-4848-a8f5-1e93cc401a4b",
   "metadata": {},
   "source": [
    "# Question 5\n",
    "- In a different attempt to change the odds of the game, instead of starting Player 2 on a different square, you decide to give Player 2 immunity to the first snake that they land on. What is the approximate probability that Player 1 wins now?"
   ]
  },
  {
   "cell_type": "code",
   "execution_count": 14,
   "id": "976abb45-0fa7-41cd-bf57-db0648aa41bb",
   "metadata": {},
   "outputs": [
    {
     "data": {
      "text/plain": [
       "Vencedor\n",
       "A    0.5055\n",
       "B    0.4945\n",
       "Name: proportion, dtype: float64"
      ]
     },
     "execution_count": 14,
     "metadata": {},
     "output_type": "execute_result"
    }
   ],
   "source": [
    "resultados = simulacao(numero_simulacoes, imunidade_jogador_B = True)\n",
    "resultados = pd.DataFrame(resultados, columns=[\"Vencedor\", \"Contador_Cobras\", \"Contador_Dados_Jogados\"])\n",
    "resultados[\"Vencedor\"].value_counts(normalize=True)"
   ]
  }
 ],
 "metadata": {
  "kernelspec": {
   "display_name": "Python 3 (ipykernel)",
   "language": "python",
   "name": "python3"
  },
  "language_info": {
   "codemirror_mode": {
    "name": "ipython",
    "version": 3
   },
   "file_extension": ".py",
   "mimetype": "text/x-python",
   "name": "python",
   "nbconvert_exporter": "python",
   "pygments_lexer": "ipython3",
   "version": "3.10.8"
  }
 },
 "nbformat": 4,
 "nbformat_minor": 5
}
